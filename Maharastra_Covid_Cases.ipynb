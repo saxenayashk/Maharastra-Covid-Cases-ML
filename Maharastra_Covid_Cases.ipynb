{
 "cells": [
  {
   "cell_type": "code",
   "execution_count": 1,
   "metadata": {},
   "outputs": [],
   "source": [
    "import numpy as np\n",
    "import pandas as pd\n",
    "import matplotlib.pyplot as plt"
   ]
  },
  {
   "cell_type": "code",
   "execution_count": 2,
   "metadata": {},
   "outputs": [],
   "source": [
    "data=pd.read_csv(\"C:\\\\Users\\\\asus\\\\Desktop\\\\HTML-CSS-Javascript\\\\Maharashtra Latest Covid Cases.csv\")\n"
   ]
  },
  {
   "cell_type": "code",
   "execution_count": 3,
   "metadata": {},
   "outputs": [
    {
     "data": {
      "text/html": [
       "<div>\n",
       "<style scoped>\n",
       "    .dataframe tbody tr th:only-of-type {\n",
       "        vertical-align: middle;\n",
       "    }\n",
       "\n",
       "    .dataframe tbody tr th {\n",
       "        vertical-align: top;\n",
       "    }\n",
       "\n",
       "    .dataframe thead th {\n",
       "        text-align: right;\n",
       "    }\n",
       "</style>\n",
       "<table border=\"1\" class=\"dataframe\">\n",
       "  <thead>\n",
       "    <tr style=\"text-align: right;\">\n",
       "      <th></th>\n",
       "      <th>Districts</th>\n",
       "      <th>Positive Cases</th>\n",
       "      <th>Active Cases</th>\n",
       "      <th>Recovered</th>\n",
       "      <th>Deceased</th>\n",
       "      <th>Recovery Rate (%)</th>\n",
       "      <th>Fatality Rate (%)</th>\n",
       "    </tr>\n",
       "  </thead>\n",
       "  <tbody>\n",
       "    <tr>\n",
       "      <th>0</th>\n",
       "      <td>Ahmednagar</td>\n",
       "      <td>270735</td>\n",
       "      <td>3265</td>\n",
       "      <td>261970</td>\n",
       "      <td>5499</td>\n",
       "      <td>96.8</td>\n",
       "      <td>2.0</td>\n",
       "    </tr>\n",
       "    <tr>\n",
       "      <th>1</th>\n",
       "      <td>Akola</td>\n",
       "      <td>58925</td>\n",
       "      <td>190</td>\n",
       "      <td>57372</td>\n",
       "      <td>1359</td>\n",
       "      <td>97.4</td>\n",
       "      <td>2.3</td>\n",
       "    </tr>\n",
       "    <tr>\n",
       "      <th>2</th>\n",
       "      <td>Amravati</td>\n",
       "      <td>94289</td>\n",
       "      <td>309</td>\n",
       "      <td>92454</td>\n",
       "      <td>1524</td>\n",
       "      <td>98.1</td>\n",
       "      <td>1.6</td>\n",
       "    </tr>\n",
       "    <tr>\n",
       "      <th>3</th>\n",
       "      <td>Aurangabad</td>\n",
       "      <td>152162</td>\n",
       "      <td>993</td>\n",
       "      <td>147520</td>\n",
       "      <td>3635</td>\n",
       "      <td>96.9</td>\n",
       "      <td>2.4</td>\n",
       "    </tr>\n",
       "    <tr>\n",
       "      <th>4</th>\n",
       "      <td>Beed</td>\n",
       "      <td>94111</td>\n",
       "      <td>2511</td>\n",
       "      <td>89042</td>\n",
       "      <td>2551</td>\n",
       "      <td>94.6</td>\n",
       "      <td>2.7</td>\n",
       "    </tr>\n",
       "  </tbody>\n",
       "</table>\n",
       "</div>"
      ],
      "text/plain": [
       "    Districts  Positive Cases  Active Cases  Recovered  Deceased  \\\n",
       "0  Ahmednagar          270735          3265     261970      5499   \n",
       "1       Akola           58925           190      57372      1359   \n",
       "2    Amravati           94289           309      92454      1524   \n",
       "3  Aurangabad          152162           993     147520      3635   \n",
       "4        Beed           94111          2511      89042      2551   \n",
       "\n",
       "   Recovery Rate (%)  Fatality Rate (%)  \n",
       "0               96.8                2.0  \n",
       "1               97.4                2.3  \n",
       "2               98.1                1.6  \n",
       "3               96.9                2.4  \n",
       "4               94.6                2.7  "
      ]
     },
     "execution_count": 3,
     "metadata": {},
     "output_type": "execute_result"
    }
   ],
   "source": [
    "data.head()"
   ]
  },
  {
   "cell_type": "code",
   "execution_count": 4,
   "metadata": {},
   "outputs": [
    {
     "name": "stdout",
     "output_type": "stream",
     "text": [
      "<class 'pandas.core.frame.DataFrame'>\n",
      "RangeIndex: 35 entries, 0 to 34\n",
      "Data columns (total 7 columns):\n",
      " #   Column             Non-Null Count  Dtype  \n",
      "---  ------             --------------  -----  \n",
      " 0   Districts          35 non-null     object \n",
      " 1   Positive Cases     35 non-null     int64  \n",
      " 2   Active Cases       35 non-null     int64  \n",
      " 3   Recovered          35 non-null     int64  \n",
      " 4   Deceased           35 non-null     int64  \n",
      " 5   Recovery Rate (%)  35 non-null     float64\n",
      " 6   Fatality Rate (%)  35 non-null     float64\n",
      "dtypes: float64(2), int64(4), object(1)\n",
      "memory usage: 2.0+ KB\n"
     ]
    }
   ],
   "source": [
    "data.info()"
   ]
  },
  {
   "cell_type": "code",
   "execution_count": 5,
   "metadata": {},
   "outputs": [
    {
     "data": {
      "text/plain": [
       "Districts            0\n",
       "Positive Cases       0\n",
       "Active Cases         0\n",
       "Recovered            0\n",
       "Deceased             0\n",
       "Recovery Rate (%)    0\n",
       "Fatality Rate (%)    0\n",
       "dtype: int64"
      ]
     },
     "execution_count": 5,
     "metadata": {},
     "output_type": "execute_result"
    }
   ],
   "source": [
    "data.isnull().sum()"
   ]
  },
  {
   "cell_type": "code",
   "execution_count": 6,
   "metadata": {},
   "outputs": [
    {
     "data": {
      "text/plain": [
       "(35, 7)"
      ]
     },
     "execution_count": 6,
     "metadata": {},
     "output_type": "execute_result"
    }
   ],
   "source": [
    "data.shape"
   ]
  },
  {
   "cell_type": "code",
   "execution_count": 7,
   "metadata": {},
   "outputs": [
    {
     "data": {
      "text/plain": [
       "Index(['Districts', 'Positive Cases', 'Active Cases', 'Recovered', 'Deceased',\n",
       "       'Recovery Rate (%)', 'Fatality Rate (%)'],\n",
       "      dtype='object')"
      ]
     },
     "execution_count": 7,
     "metadata": {},
     "output_type": "execute_result"
    }
   ],
   "source": [
    "data.columns"
   ]
  },
  {
   "cell_type": "code",
   "execution_count": 8,
   "metadata": {},
   "outputs": [],
   "source": [
    "data_Recovered=np.array(data.Recovered[0:20])\n",
    "data_PositiveCases=np.array(data.Deceased[0:20])"
   ]
  },
  {
   "cell_type": "code",
   "execution_count": 9,
   "metadata": {},
   "outputs": [],
   "source": [
    "data_new = data.rename(columns={'Positive Cases': 'Positive_Cases','Active Cases':'Active_Cases','Recovery Rate (%)':'Recovery_Rate','Fatality Rate (%)':'Fatality_Rate'})\n"
   ]
  },
  {
   "cell_type": "code",
   "execution_count": 10,
   "metadata": {},
   "outputs": [
    {
     "data": {
      "text/html": [
       "<div>\n",
       "<style scoped>\n",
       "    .dataframe tbody tr th:only-of-type {\n",
       "        vertical-align: middle;\n",
       "    }\n",
       "\n",
       "    .dataframe tbody tr th {\n",
       "        vertical-align: top;\n",
       "    }\n",
       "\n",
       "    .dataframe thead th {\n",
       "        text-align: right;\n",
       "    }\n",
       "</style>\n",
       "<table border=\"1\" class=\"dataframe\">\n",
       "  <thead>\n",
       "    <tr style=\"text-align: right;\">\n",
       "      <th></th>\n",
       "      <th>Districts</th>\n",
       "      <th>Positive_Cases</th>\n",
       "      <th>Active_Cases</th>\n",
       "      <th>Recovered</th>\n",
       "      <th>Deceased</th>\n",
       "      <th>Recovery_Rate</th>\n",
       "      <th>Fatality_Rate</th>\n",
       "    </tr>\n",
       "  </thead>\n",
       "  <tbody>\n",
       "    <tr>\n",
       "      <th>0</th>\n",
       "      <td>Ahmednagar</td>\n",
       "      <td>270735</td>\n",
       "      <td>3265</td>\n",
       "      <td>261970</td>\n",
       "      <td>5499</td>\n",
       "      <td>96.8</td>\n",
       "      <td>2.0</td>\n",
       "    </tr>\n",
       "    <tr>\n",
       "      <th>1</th>\n",
       "      <td>Akola</td>\n",
       "      <td>58925</td>\n",
       "      <td>190</td>\n",
       "      <td>57372</td>\n",
       "      <td>1359</td>\n",
       "      <td>97.4</td>\n",
       "      <td>2.3</td>\n",
       "    </tr>\n",
       "    <tr>\n",
       "      <th>2</th>\n",
       "      <td>Amravati</td>\n",
       "      <td>94289</td>\n",
       "      <td>309</td>\n",
       "      <td>92454</td>\n",
       "      <td>1524</td>\n",
       "      <td>98.1</td>\n",
       "      <td>1.6</td>\n",
       "    </tr>\n",
       "    <tr>\n",
       "      <th>3</th>\n",
       "      <td>Aurangabad</td>\n",
       "      <td>152162</td>\n",
       "      <td>993</td>\n",
       "      <td>147520</td>\n",
       "      <td>3635</td>\n",
       "      <td>96.9</td>\n",
       "      <td>2.4</td>\n",
       "    </tr>\n",
       "    <tr>\n",
       "      <th>4</th>\n",
       "      <td>Beed</td>\n",
       "      <td>94111</td>\n",
       "      <td>2511</td>\n",
       "      <td>89042</td>\n",
       "      <td>2551</td>\n",
       "      <td>94.6</td>\n",
       "      <td>2.7</td>\n",
       "    </tr>\n",
       "  </tbody>\n",
       "</table>\n",
       "</div>"
      ],
      "text/plain": [
       "    Districts  Positive_Cases  Active_Cases  Recovered  Deceased  \\\n",
       "0  Ahmednagar          270735          3265     261970      5499   \n",
       "1       Akola           58925           190      57372      1359   \n",
       "2    Amravati           94289           309      92454      1524   \n",
       "3  Aurangabad          152162           993     147520      3635   \n",
       "4        Beed           94111          2511      89042      2551   \n",
       "\n",
       "   Recovery_Rate  Fatality_Rate  \n",
       "0           96.8            2.0  \n",
       "1           97.4            2.3  \n",
       "2           98.1            1.6  \n",
       "3           96.9            2.4  \n",
       "4           94.6            2.7  "
      ]
     },
     "execution_count": 10,
     "metadata": {},
     "output_type": "execute_result"
    }
   ],
   "source": [
    "data_new.head()"
   ]
  },
  {
   "cell_type": "code",
   "execution_count": 11,
   "metadata": {},
   "outputs": [],
   "source": [
    "data_P=np.array(data_new.Positive_Cases[0:34])\n",
    "data_A=np.array(data_new.Active_Cases[0:34])\n",
    "data_R=np.array(data_new.Recovered[0:34])\n",
    "data_D=np.array(data_new.Deceased[0:34])\n",
    "data_RR=np.array(data_new.Recovery_Rate[0:34])\n",
    "data_FR=np.array(data_new.Fatality_Rate[0:34])\n"
   ]
  },
  {
   "cell_type": "code",
   "execution_count": 12,
   "metadata": {},
   "outputs": [
    {
     "name": "stderr",
     "output_type": "stream",
     "text": [
      "<ipython-input-12-9bdb992c6404>:5: MatplotlibDeprecationWarning: Adding an axes using the same arguments as a previous axes currently reuses the earlier instance.  In a future version, a new instance will always be created and returned.  Meanwhile, this warning can be suppressed, and the future behavior ensured, by passing a unique label to each axes instance.\n",
      "  ak=plt.axes()\n"
     ]
    },
    {
     "data": {
      "image/png": "[encoded data removed]",
      "text/plain": [
       "<Figure size 432x288 with 1 Axes>"
      ]
     },
     "metadata": {
      "needs_background": "light"
     },
     "output_type": "display_data"
    }
   ],
   "source": [
    "plt.scatter(data_P,data_A,color='b')\n",
    "plt.xlabel('Positive Cases')\n",
    "plt.ylabel('Active Cases')\n",
    "plt.title('Positive Cases vs Active Cases')\n",
    "ak=plt.axes()\n",
    "ak.set_facecolor(\"grey\")\n",
    "plt.show()"
   ]
  },
  {
   "cell_type": "code",
   "execution_count": 13,
   "metadata": {},
   "outputs": [
    {
     "name": "stderr",
     "output_type": "stream",
     "text": [
      "<ipython-input-13-56ad42d620a0>:5: MatplotlibDeprecationWarning: Adding an axes using the same arguments as a previous axes currently reuses the earlier instance.  In a future version, a new instance will always be created and returned.  Meanwhile, this warning can be suppressed, and the future behavior ensured, by passing a unique label to each axes instance.\n",
      "  ak=plt.axes()\n"
     ]
    },
    {
     "data": {
      "image/png": "[encoded data removed]",
      "text/plain": [
       "<Figure size 432x288 with 1 Axes>"
      ]
     },
     "metadata": {
      "needs_background": "light"
     },
     "output_type": "display_data"
    }
   ],
   "source": [
    "plt.scatter(data_P,data_R,color='g')\n",
    "plt.xlabel('Positive Cases')\n",
    "plt.ylabel('Recovered Cases')\n",
    "plt.title('Positive Cases vs Recovered Cases')\n",
    "ak=plt.axes()\n",
    "ak.set_facecolor(\"grey\")\n",
    "plt.show()"
   ]
  },
  {
   "cell_type": "code",
   "execution_count": 14,
   "metadata": {},
   "outputs": [
    {
     "name": "stderr",
     "output_type": "stream",
     "text": [
      "<ipython-input-14-d4ab78ab063e>:5: MatplotlibDeprecationWarning: Adding an axes using the same arguments as a previous axes currently reuses the earlier instance.  In a future version, a new instance will always be created and returned.  Meanwhile, this warning can be suppressed, and the future behavior ensured, by passing a unique label to each axes instance.\n",
      "  ak=plt.axes()\n"
     ]
    },
    {
     "data": {
      "image/png": "[encoded data removed]",
      "text/plain": [
       "<Figure size 432x288 with 1 Axes>"
      ]
     },
     "metadata": {
      "needs_background": "light"
     },
     "output_type": "display_data"
    }
   ],
   "source": [
    "plt.scatter(data_P,data_D,color='r')\n",
    "plt.xlabel('Positive Cases')\n",
    "plt.ylabel('Deceased Cases')\n",
    "plt.title('Positive Cases vs Deceased Cases')\n",
    "ak=plt.axes()\n",
    "ak.set_facecolor(\"grey\")\n",
    "plt.show()"
   ]
  },
  {
   "cell_type": "code",
   "execution_count": 15,
   "metadata": {},
   "outputs": [
    {
     "name": "stderr",
     "output_type": "stream",
     "text": [
      "<ipython-input-15-637d8fca2ca1>:5: MatplotlibDeprecationWarning: Adding an axes using the same arguments as a previous axes currently reuses the earlier instance.  In a future version, a new instance will always be created and returned.  Meanwhile, this warning can be suppressed, and the future behavior ensured, by passing a unique label to each axes instance.\n",
      "  ak=plt.axes()\n"
     ]
    },
    {
     "data": {
      "image/png": "[encoded data removed]",
      "text/plain": [
       "<Figure size 432x288 with 1 Axes>"
      ]
     },
     "metadata": {
      "needs_background": "light"
     },
     "output_type": "display_data"
    }
   ],
   "source": [
    "plt.scatter(data_RR,data_FR,color='tab:cyan')\n",
    "plt.xlabel('Recovery Rate')\n",
    "plt.ylabel('Fatality Rate')\n",
    "plt.title('Recovery Rate vs Fatality Rate')\n",
    "ak=plt.axes()\n",
    "ak.set_facecolor(\"grey\")\n",
    "plt.show()"
   ]
  },
  {
   "cell_type": "code",
   "execution_count": 16,
   "metadata": {},
   "outputs": [],
   "source": [
    "train_input=np.array(data_new.Active_Cases[0:20]).reshape(20,1)\n",
    "train_output=np.array(data_new.Fatality_Rate[0:20]).reshape(20,1)\n",
    "\n",
    "test_input=np.array(data_new.Active_Cases[20:34]).reshape(14,1)\n",
    "test_output=np.array(data_new.Fatality_Rate[20:34]).reshape(14,1)"
   ]
  },
  {
   "cell_type": "code",
   "execution_count": 17,
   "metadata": {},
   "outputs": [
    {
     "data": {
      "text/plain": [
       "LinearRegression()"
      ]
     },
     "execution_count": 17,
     "metadata": {},
     "output_type": "execute_result"
    }
   ],
   "source": [
    "from sklearn.linear_model import LinearRegression\n",
    "linear_regressor=LinearRegression()\n",
    "linear_regressor.fit(train_input,train_output)"
   ]
  },
  {
   "cell_type": "code",
   "execution_count": 18,
   "metadata": {},
   "outputs": [],
   "source": [
    "predicted_values=linear_regressor.predict(test_input)"
   ]
  },
  {
   "cell_type": "code",
   "execution_count": 19,
   "metadata": {},
   "outputs": [
    {
     "data": {
      "text/plain": [
       "array([[2.12831918],\n",
       "       [2.00823515],\n",
       "       [2.0475346 ],\n",
       "       [2.00176381],\n",
       "       [2.74498199],\n",
       "       [2.18210415],\n",
       "       [2.20087531],\n",
       "       [2.4428005 ],\n",
       "       [2.31500229],\n",
       "       [2.12570493],\n",
       "       [2.13740477],\n",
       "       [2.69993976],\n",
       "       [2.00669231],\n",
       "       [1.9954639 ]])"
      ]
     },
     "execution_count": 19,
     "metadata": {},
     "output_type": "execute_result"
    }
   ],
   "source": [
    "predicted_values"
   ]
  },
  {
   "cell_type": "code",
   "execution_count": 20,
   "metadata": {},
   "outputs": [
    {
     "data": {
      "text/plain": [
       "array([[2. ],\n",
       "       [2.8],\n",
       "       [2.2],\n",
       "       [2.3],\n",
       "       [1.6],\n",
       "       [2.1],\n",
       "       [2.8],\n",
       "       [2.7],\n",
       "       [2.4],\n",
       "       [2.4],\n",
       "       [2.6],\n",
       "       [1.8],\n",
       "       [2. ],\n",
       "       [1.5]])"
      ]
     },
     "execution_count": 20,
     "metadata": {},
     "output_type": "execute_result"
    }
   ],
   "source": [
    "test_output"
   ]
  },
  {
   "cell_type": "code",
   "execution_count": 21,
   "metadata": {},
   "outputs": [],
   "source": [
    "from sklearn.metrics import mean_squared_error\n",
    "error=mean_squared_error(test_output,predicted_values)\n"
   ]
  },
  {
   "cell_type": "code",
   "execution_count": 22,
   "metadata": {},
   "outputs": [
    {
     "data": {
      "text/plain": [
       "0.2750180213139568"
      ]
     },
     "execution_count": 22,
     "metadata": {},
     "output_type": "execute_result"
    }
   ],
   "source": [
    "error"
   ]
  },
  {
   "cell_type": "code",
   "execution_count": 24,
   "metadata": {},
   "outputs": [
    {
     "data": {
      "image/png": "[encoded data removed]",
      "text/plain": [
       "<Figure size 432x288 with 1 Axes>"
      ]
     },
     "metadata": {
      "needs_background": "light"
     },
     "output_type": "display_data"
    }
   ],
   "source": [
    "plt.plot(test_input,test_output,\"*\",color=\"g\")\n",
    "plt.plot(test_input,predicted_values,color=\"red\")\n",
    "plt.show()"
   ]
  },
  {
   "cell_type": "code",
   "execution_count": null,
   "metadata": {},
   "outputs": [],
   "source": []
  }
 ],
 "metadata": {
  "kernelspec": {
   "display_name": "Python 3",
   "language": "python",
   "name": "python3"
  },
  "language_info": {
   "codemirror_mode": {
    "name": "ipython",
    "version": 3
   },
   "file_extension": ".py",
   "mimetype": "text/x-python",
   "name": "python",
   "nbconvert_exporter": "python",
   "pygments_lexer": "ipython3",
   "version": "3.8.5"
  }
 },
 "nbformat": 4,
 "nbformat_minor": 4
}
